{
  "cells": [
    {
      "cell_type": "markdown",
      "metadata": {
        "id": "view-in-github",
        "colab_type": "text"
      },
      "source": [
        "<a href=\"https://colab.research.google.com/github/Asta-204/Arche_Footer/blob/main/Model_Reconnaissance_Faciale.ipynb\" target=\"_parent\"><img src=\"https://colab.research.google.com/assets/colab-badge.svg\" alt=\"Open In Colab\"/></a>"
      ]
    },
    {
      "cell_type": "code",
      "source": [
        "# Specify the path to the main directory\n",
        "main_directory = '/kaggle/input/pins-face-recognition/105_classes_pins_dataset'\n",
        "\n",
        "# Initialize counts\n",
        "folder_count = 0\n",
        "total_file_count = 0\n",
        "\n",
        "# Iterate through the main directory\n",
        "for root, dirs, files in os.walk(main_directory):\n",
        "    # Count folders\n",
        "    folder_count += len(dirs)\n",
        "\n",
        "    # Count files in each folder\n",
        "    folder_file_count = len(files)\n",
        "    total_file_count += folder_file_count\n",
        "\n",
        "    # Print the folder name and the number of files in that folder\n",
        "    print(f\"Folder: {os.path.basename(root)}, Files: {folder_file_count}\")\n",
        "\n",
        "# Print the overall results\n",
        "print(f\"\\nNumber of folders: {folder_count}\")\n",
        "print(f\"Total number of files: {total_file_count}\")\n"
      ],
      "metadata": {
        "id": "GTpebfZmJZvt",
        "outputId": "52e0d782-0fe9-480a-8c0f-7f6a2a329386",
        "colab": {
          "base_uri": "https://localhost:8080/"
        }
      },
      "execution_count": 3,
      "outputs": [
        {
          "output_type": "stream",
          "name": "stdout",
          "text": [
            "\n",
            "Number of folders: 0\n",
            "Total number of files: 0\n"
          ]
        }
      ]
    }
  ],
  "metadata": {
    "colab": {
      "name": "Bienvenue dans Colaboratory",
      "provenance": [],
      "toc_visible": true,
      "include_colab_link": true
    },
    "kernelspec": {
      "display_name": "Python 3",
      "name": "python3"
    }
  },
  "nbformat": 4,
  "nbformat_minor": 0
}